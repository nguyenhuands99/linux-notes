{
 "cells": [
  {
   "cell_type": "code",
   "execution_count": 5,
   "source": [
    "%%bash -s 9\n",
    "\n",
    "if [ \"$1\" -gt 10 ]; then\n",
    "    echo \"greater than 10\"\n",
    "elif [ \"$1\" -lt 10 ]; then\n",
    "    echo \"less than 10\"\n",
    "else\n",
    "    echo \"equals 10\"\n",
    "fi\n",
    "\n"
   ],
   "outputs": [
    {
     "output_type": "stream",
     "name": "stdout",
     "text": [
      "less than 10\n"
     ]
    }
   ],
   "metadata": {}
  }
 ],
 "metadata": {
  "orig_nbformat": 4,
  "language_info": {
   "name": "python",
   "version": "3.8.10",
   "mimetype": "text/x-python",
   "codemirror_mode": {
    "name": "ipython",
    "version": 3
   },
   "pygments_lexer": "ipython3",
   "nbconvert_exporter": "python",
   "file_extension": ".py"
  },
  "kernelspec": {
   "name": "python3",
   "display_name": "Python 3.8.10 64-bit ('base': conda)"
  },
  "interpreter": {
   "hash": "8c41785d08d518d6063bd2cd334bc8e2fe211597cea3d9372d08927f9e7f72ef"
  }
 },
 "nbformat": 4,
 "nbformat_minor": 2
}